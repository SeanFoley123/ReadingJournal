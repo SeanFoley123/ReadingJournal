{
 "cells": [
  {
   "cell_type": "markdown",
   "metadata": {},
   "source": [
    "# Day 5 Reading Journal\n",
    "\n",
    "This journal includes several required exercises, but it is meant to encourage active reading more generally.  You should use the journal to take detailed notes, catalog questions, and explore the content from Think Python deeply.\n",
    "\n",
    "Reading: Think Python Chapter 4\n",
    "\n",
    "**Due: Monday, February 8 at 12 noon**\n",
    "\n"
   ]
  },
  {
   "cell_type": "markdown",
   "metadata": {},
   "source": [
    "## [Chapter 4](http://www.greenteapress.com/thinkpython/html/thinkpython005.html)\n",
    "\n",
    "In today's reading, you'll be exploring TurtleWorld!\n",
    "TurtleWorld is part of the [swampy](http://www.greenteapress.com/thinkpython/swampy/) package, written by Allen Downey.\n",
    "As part of the [Get Set](https://sites.google.com/site/sd16spring/home/assignments-and-mini-projects/setup-your-environment) assignment, you installed the swampy package using the pip Python package management tool. If you somehow missed that step or you see errors when you try to import TurtleWorld, you can install swampy by running:\n",
    "\n",
    "```\n",
    "sudo pip install swampy\n",
    "```\n",
    "\n",
    "at the command line.\n",
    "\n",
    "### Turtle wrangling\n",
    "\n",
    "You can always run your code as separate Python scripts, but here are a few tips for mixing TurtleWorld with Jupyter notebook:\n",
    "\n",
    " - TurtleWorld will appear in a new GUI window, rather than inline in the notebook like typical results do\n",
    " - You will not be able to close the TurtleWorld window unless you run `wait_for_user()` as the last line of your code.\n",
    " - Jupyter notebook works like one big Python script, even though it is broken up into sections. This means that you could create a Turtle in one cell, move it in a later cell, and then `wait_for_user()` in yet another. Despite this, it might be easier to treat each cell in this assignment as a separate script, creating a new world at the beginning and destroying it at the end of each."
   ]
  },
  {
   "cell_type": "markdown",
   "metadata": {},
   "source": [
    "### Get started\n",
    "\n",
    "Run the code in the cell below and make sure everything works. You should see brave Alice spring into the world and run forward. You can close the window when you're done by clicking on the 'X'. If this simple test doesn't work, check your swampy install (especially if you get an `ImportError`) and ask for help."
   ]
  },
  {
   "cell_type": "code",
   "execution_count": 1,
   "metadata": {
    "collapsed": true
   },
   "outputs": [],
   "source": [
    "from swampy.TurtleWorld import *\n",
    "\n",
    "# Create the world, and a turtle to put in it\n",
    "world = TurtleWorld()\n",
    "alice = Turtle()\n",
    "\n",
    "# Get moving, turtle!\n",
    "fd(alice, 50)\n",
    "\n",
    "# Wait for the user to close the window\n",
    "wait_for_user()"
   ]
  },
  {
   "cell_type": "markdown",
   "metadata": {
    "is_question": true,
    "problem": "Section 4.3"
   },
   "source": [
    "### Section 4.3 exercises\n",
    "Work through exercises 1-5 in Section 4.3, creating the `square`, `polygon`, `circle`, and `arc` functions. You can reference Allen's solutions, but please try the problems on your own first."
   ]
  },
  {
   "cell_type": "code",
   "execution_count": 8,
   "metadata": {
    "collapsed": false,
    "solution": "Section 4.3"
   },
   "outputs": [
    {
     "name": "stdout",
     "output_type": "stream",
     "text": [
      "439.750627094\n",
      "439.822971503\n"
     ]
    }
   ],
   "source": [
    "from swampy.TurtleWorld import *\n",
    "import math\n",
    "\n",
    "def square(t, s):\n",
    "    for i in range(4):\n",
    "        fd(t, s)\n",
    "        lt(t)\n",
    "        \n",
    "def polygon(t, r, n):    #r= inscribed radius\n",
    "    theta = math.pi*(n-2.0)/n\n",
    "    s = 2*r*math.cos(theta/2.0)\n",
    "    for i in range(n):\n",
    "        fd(t, s)\n",
    "        lt(t, 180-theta*180.0/math.pi)\n",
    "\n",
    "def circle(t, r):    \n",
    "    n = 100\n",
    "    theta = math.pi*(n-2.0)/n\n",
    "    s = 2*r*math.cos(theta/2.0)\n",
    "    for i in range(n):\n",
    "        fd(t, s)\n",
    "        lt(t, 180-theta*180.0/math.pi)\n",
    "    print s*n\n",
    "    print 2*math.pi*r\n",
    "\n",
    "def arc(t, r, angle):    #angle in degrees\n",
    "    n = 100\n",
    "    theta = math.pi*(n-2.0)/n\n",
    "    s = 2*r*math.cos(theta/2.0)\n",
    "    for i in range(int(angle/360.0*n)):\n",
    "        fd(t, s)\n",
    "        lt(t, 180-theta*180.0/math.pi)\n",
    "\n",
    "\n",
    "world = TurtleWorld()\n",
    "bob = Turtle()\n",
    "bob.delay = 0\n",
    "\n",
    "square(bob, 100)\n",
    "\n",
    "polygon(bob, 70, 5)\n",
    "polygon(bob, 70, 4)\n",
    "polygon(bob, 70, 50)\n",
    "\n",
    "circle(bob, 70)\n",
    "\n",
    "arc(bob, 70, 200)\n",
    "\n",
    "wait_for_user()"
   ]
  },
  {
   "cell_type": "markdown",
   "metadata": {
    "is_question": true,
    "problem": "More fun"
   },
   "source": [
    "### Exercise: More fun with Turtles!\n",
    "\n",
    "Complete at least one of Exercise 2, 3, 4, or 5. If you come up with some cool drawings you'd like to share with the rest of the class, let us know!"
   ]
  },
  {
   "cell_type": "code",
   "execution_count": null,
   "metadata": {
    "collapsed": false,
    "solution": "More fun"
   },
   "outputs": [],
   "source": [
    "from swampy.TurtleWorld import *\n",
    "import math\n",
    "\n",
    "def draw_pie(turtle, n, offset):\n",
    "    \"\"\" Draws a pie with n sides that's spun at an angle of offset\n",
    "    \"\"\"\n",
    "    internal_angle = 180*(n-2.0)/n\n",
    "    L = 100\n",
    "    \n",
    "    turtle.rt(offset)\n",
    "    \n",
    "    for i in range(n):\n",
    "        draw_triangle(turtle, internal_angle/2, L)\n",
    "    \n",
    "def draw_triangle(turtle, iso_angle, L):\n",
    "    \"\"\" Draw an isoceles triangle with duplicated sides of length L and duplicated angles of iso_angle.\n",
    "        Iso_angle in degrees\n",
    "    \"\"\"\n",
    "    other_side = 2*L*math.cos(iso_angle*math.pi/180)\n",
    "    fd(turtle, L)\n",
    "    rt(turtle, 180-iso_angle)\n",
    "    fd(turtle, other_side)\n",
    "    rt(turtle, 180-iso_angle)\n",
    "    fd(turtle, L)\n",
    "    rt(turtle, 180)\n",
    "\n",
    "world = TurtleWorld()\n",
    "sean = Turtle()\n",
    "sean.delay = 0\n",
    "draw_pie(sean, 10, 30)\n",
    "\n",
    "wait_for_user()"
   ]
  },
  {
   "cell_type": "markdown",
   "metadata": {},
   "source": [
    "### Reading Journal feedback\n",
    "\n",
    "Have any comments on this Reading Journal? Feel free to leave them below and we'll read them when you submit your journal entry. This could include suggestions to improve the exercises, topics you'd like to see covered in class next time, or other feedback.\n",
    "\n",
    "If you have Python questions or run into problems while completing the reading, you should post them to Piazza instead so you can get a quick response before your journal is submitted."
   ]
  },
  {
   "cell_type": "markdown",
   "metadata": {},
   "source": [
    " "
   ]
  },
  {
   "cell_type": "code",
   "execution_count": null,
   "metadata": {
    "collapsed": true
   },
   "outputs": [],
   "source": []
  }
 ],
 "metadata": {
  "kernelspec": {
   "display_name": "Python 2",
   "language": "python",
   "name": "python2"
  },
  "language_info": {
   "codemirror_mode": {
    "name": "ipython",
    "version": 2
   },
   "file_extension": ".py",
   "mimetype": "text/x-python",
   "name": "python",
   "nbconvert_exporter": "python",
   "pygments_lexer": "ipython2",
   "version": "2.7.6"
  }
 },
 "nbformat": 4,
 "nbformat_minor": 0
}
