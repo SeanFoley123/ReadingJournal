{
 "cells": [
  {
   "cell_type": "markdown",
   "metadata": {},
   "source": [
    "# Day 1 Reading Journal\n",
    "\n",
    "Hi everyone.  These are the exercises for the first set of readings from ThinkPython.  While this journal consists of several required exercises, it is meant to encourage active reading more generally.  You should use this journal to take detailed notes, catalog questions, and explore the content from ThinkPython deeply.\n",
    "\n",
    "For more information on using the Jupyter notebook, check out the documentation [here](http://nbviewer.jupyter.org/github/jupyter/notebook/blob/master/docs/source/examples/Notebook/Examples%20and%20Tutorials%20Index.ipynb).  Additionally, in order to write text in this document, you will be making use of markdown cells. A handy cheatsheet for markdown is available [here](https://github.com/adam-p/markdown-here/wiki/Markdown-Cheatsheet)."
   ]
  },
  {
   "cell_type": "markdown",
   "metadata": {},
   "source": [
    "## Chapter 1\n",
    "\n",
    "Note: the exercise numbers below match up with the reading for ease of cross referencing.\n",
    "Does this work?\n",
    "Seems to\n",
    "Interpreted: Translated to machine code a bit at a time as the program is running\n",
    "\n",
    "Compiled: Converted into one big chunk of object code that the computer can understand; creates an executable.\n",
    "\n",
    "Question: What is the difference between a runtime and a syntax error? He says \"runtime errors do not occur until after the program has started running,\" but because Python is interpreted, doesn't it translate a bit, run a bit, translate a bit, run a bit? So can't you get syntax errors while the code is running? What is a runtime error?\n",
    "\n",
    "Maybe syntax errors are included in runtime errors?\n",
    "\n",
    "**Exercise 1**\n",
    "\n",
    "I am grendlioning the 87902 with soap\\\n",
    "\n",
    "Harlequin! The tick tock man repent said.\n",
    "\n"
   ]
  },
  {
   "cell_type": "markdown",
   "metadata": {},
   "source": [
    "### Exercise 3\n",
    "\n",
    "Type `help()` to start the online help utility. Or you can type help('print') to get information about the print statement.  You should type `q` and then hit `enter` in the text box to exit the help utility. \n",
    "\n",
    "Note: this exercise is pretty simple (and there's not much to put in the box)!  We just want to make sure that you have tried out this super-handy feature of Python!"
   ]
  },
  {
   "cell_type": "code",
   "execution_count": 1,
   "metadata": {
    "collapsed": false
   },
   "outputs": [
    {
     "name": "stdout",
     "output_type": "stream",
     "text": [
      "Hello World6\n"
     ]
    }
   ],
   "source": [
    "print \"Hello World\"+ str(6)"
   ]
  },
  {
   "cell_type": "code",
   "execution_count": 2,
   "metadata": {
    "collapsed": false
   },
   "outputs": [
    {
     "data": {
      "text/plain": [
       "6"
      ]
     },
     "execution_count": 2,
     "metadata": {},
     "output_type": "execute_result"
    }
   ],
   "source": [
    "int(6.4)"
   ]
  },
  {
   "cell_type": "code",
   "execution_count": 3,
   "metadata": {
    "collapsed": false
   },
   "outputs": [
    {
     "name": "stdout",
     "output_type": "stream",
     "text": [
      "\n",
      "Welcome to Python 2.7!  This is the online help utility.\n",
      "\n",
      "If this is your first time using Python, you should definitely check out\n",
      "the tutorial on the Internet at http://docs.python.org/2.7/tutorial/.\n",
      "\n",
      "Enter the name of any module, keyword, or topic to get help on writing\n",
      "Python programs and using Python modules.  To quit this help utility and\n",
      "return to the interpreter, just type \"quit\".\n",
      "\n",
      "To get a list of available modules, keywords, or topics, type \"modules\",\n",
      "\"keywords\", or \"topics\".  Each module also comes with a one-line summary\n",
      "of what it does; to list the modules whose summaries contain a given word\n",
      "such as \"spam\", type \"modules spam\".\n",
      "\n",
      "help> print\n",
      "The ``print`` statement\n",
      "***********************\n",
      "\n",
      "   print_stmt ::= \"print\" ([expression (\",\" expression)* [\",\"]]\n",
      "                  | \">>\" expression [(\",\" expression)+ [\",\"]])\n",
      "\n",
      "``print`` evaluates each expression in turn and writes the resulting\n",
      "object to standard output (see below).  If an object is not a string,\n",
      "it is first converted to a string using the rules for string\n",
      "conversions.  The (resulting or original) string is then written.  A\n",
      "space is written before each object is (converted and) written, unless\n",
      "the output system believes it is positioned at the beginning of a\n",
      "line.  This is the case (1) when no characters have yet been written\n",
      "to standard output, (2) when the last character written to standard\n",
      "output is a whitespace character except ``' '``, or (3) when the last\n",
      "write operation on standard output was not a ``print`` statement. (In\n",
      "some cases it may be functional to write an empty string to standard\n",
      "output for this reason.)\n",
      "\n",
      "Note: Objects which act like file objects but which are not the built-in\n",
      "  file objects often do not properly emulate this aspect of the file\n",
      "  object's behavior, so it is best not to rely on this.\n",
      "\n",
      "A ``'\\n'`` character is written at the end, unless the ``print``\n",
      "statement ends with a comma.  This is the only action if the statement\n",
      "contains just the keyword ``print``.\n",
      "\n",
      "Standard output is defined as the file object named ``stdout`` in the\n",
      "built-in module ``sys``.  If no such object exists, or if it does not\n",
      "have a ``write()`` method, a ``RuntimeError`` exception is raised.\n",
      "\n",
      "``print`` also has an extended form, defined by the second portion of\n",
      "the syntax described above. This form is sometimes referred to as\n",
      "\"``print`` chevron.\" In this form, the first expression after the\n",
      "``>>`` must evaluate to a \"file-like\" object, specifically an object\n",
      "that has a ``write()`` method as described above.  With this extended\n",
      "form, the subsequent expressions are printed to this file object.  If\n",
      "the first expression evaluates to ``None``, then ``sys.stdout`` is\n",
      "used as the file for output.\n",
      "\n",
      "help> q\n",
      "\n",
      "You are now leaving help and returning to the Python interpreter.\n",
      "If you want to ask for help on a particular object directly from the\n",
      "interpreter, you can type \"help(object)\".  Executing \"help('string')\"\n",
      "has the same effect as typing a particular string at the help> prompt.\n"
     ]
    }
   ],
   "source": [
    "help()"
   ]
  },
  {
   "cell_type": "markdown",
   "metadata": {},
   "source": [
    "### Exercise 4  \n",
    "\n",
    "Start the Python interpreter and use it as a calculator. Python’s syntax for math operations is almost the same as standard mathematical notation. For example, the symbols +, - and / denote addition, subtraction and division, as you would expect. The symbol for multiplication is *.\n",
    "\n",
    "If you run a 10 kilometer race in 43 minutes 30 seconds, what is your average time per mile? What is your average speed in miles per hour? (Hint: there are 1.61 kilometers in a mile). "
   ]
  },
  {
   "cell_type": "code",
   "execution_count": 4,
   "metadata": {
    "collapsed": false
   },
   "outputs": [
    {
     "name": "stdout",
     "output_type": "stream",
     "text": [
      "Time per mile is 0.116725 hours or 7.0035 minutes. Pretty good, Joe, but I know you can do better.\n",
      "Your average speed was 8.56714499893 miles per hour.\n"
     ]
    }
   ],
   "source": [
    "d = 10.0/1.61\n",
    "time = 43.0/60.+30./60./60.\n",
    "print 'Time per mile is ' + str(time/d)+ ' hours or ' + str(time*60/d)+ ' minutes. Pretty good, Joe, but I know you can do better.'\n",
    "print 'Your average speed was ' +str(d/time)+ ' miles per hour.'"
   ]
  },
  {
   "cell_type": "markdown",
   "metadata": {},
   "source": [
    "## Chapter 2"
   ]
  },
  {
   "cell_type": "markdown",
   "metadata": {},
   "source": [
    "### Exercise 2  \n",
    "\n",
    "Assume that we execute the following assignment statements:\n",
    "\n",
    "width = 17\n",
    "height = 12.0\n",
    "delimiter = '.'\n",
    "\n",
    "For each of the following expressions, write the value of the expression and the type (of the value of the expression).\n",
    "\n",
    "1. `width/2`\n",
    "2. `width/2.0`\n",
    "3. `height/3`\n",
    "4. `1 + 2 * 5`\n",
    "5. `delimiter * 5`\n",
    "\n",
    "Please use the following markdown cell to provide your answer."
   ]
  },
  {
   "cell_type": "markdown",
   "metadata": {},
   "source": [
    "1. Value is 8, type int\n",
    "\n",
    "2. Value is 8.5, type float\n",
    "\n",
    "3. Value is 5, type int\n",
    "\n",
    "4. Value is 11, type int\n",
    "\n",
    "5. Result is '.....', and that's a string."
   ]
  },
  {
   "cell_type": "markdown",
   "metadata": {},
   "source": [
    "### Exercise 3  \n",
    "\n",
    "Practice using the Python interpreter as a calculator.  For each of these provide Python code that computes each answer.\n",
    "\n",
    "    \n"
   ]
  },
  {
   "cell_type": "markdown",
   "metadata": {},
   "source": [
    "The volume of a sphere with radius r is 4/3 $\\pi r^3$. What is the volume of a sphere with radius 5? Hint: 392.7 is wrong!"
   ]
  },
  {
   "cell_type": "code",
   "execution_count": 8,
   "metadata": {
    "collapsed": false
   },
   "outputs": [
    {
     "data": {
      "text/plain": [
       "523.5987755982989"
      ]
     },
     "execution_count": 8,
     "metadata": {},
     "output_type": "execute_result"
    }
   ],
   "source": [
    "import math\n",
    "4/3.*math.pi*5**3"
   ]
  },
  {
   "cell_type": "markdown",
   "metadata": {},
   "source": [
    "Suppose the cover price of a book is \\$24.95, but bookstores get a 40% discount. Shipping costs \\$3 for the first copy and 75 cents for each additional copy. What is the total wholesale cost for 60 copies?"
   ]
  },
  {
   "cell_type": "code",
   "execution_count": 10,
   "metadata": {
    "collapsed": false
   },
   "outputs": [
    {
     "name": "stdout",
     "output_type": "stream",
     "text": [
      "Total cost is $646.8\n"
     ]
    }
   ],
   "source": [
    "print 'Total cost is $' + str(3 + .75*60 + .4*24.95*60)"
   ]
  },
  {
   "cell_type": "markdown",
   "metadata": {},
   "source": [
    "If I leave my house at 6:52 am and run 1 mile at an easy pace (8:15 per mile), then 3 miles at tempo (7:12 per mile) and 1 mile at easy pace again, what time do I get home for breakfast? "
   ]
  },
  {
   "cell_type": "code",
   "execution_count": 1,
   "metadata": {
    "collapsed": false
   },
   "outputs": [
    {
     "name": "stdout",
     "output_type": "stream",
     "text": [
      "Input the time!\n",
      "Hour: 6\n",
      "Minute: 52\n",
      "Second: 0\n",
      "Final time is 7:30:6.0\n"
     ]
    }
   ],
   "source": [
    "print 'Input the time!'\n",
    "hour = input('Hour: ')\n",
    "minute = input('Minute: ')\n",
    "second = input('Second: ')\n",
    "time = second + 60.*minute+60.*60.*hour\n",
    "time_spent = 2*(8*60+15)+3*(7*60+12)\n",
    "time_final = time+time_spent\n",
    "print 'Final time is ' + str(int(time_final/60/60))+':'+str(int(time_final/60%60))+':'+str(time_final%60)"
   ]
  },
  {
   "cell_type": "markdown",
   "metadata": {},
   "source": [
    "## Chapter 3\n",
    "Functions\n",
    "I know about functions\n",
    "Modules are like little libraries of functions that you can write and import into your projects so you don't have to define them over and over again."
   ]
  },
  {
   "cell_type": "code",
   "execution_count": 9,
   "metadata": {
    "collapsed": false
   },
   "outputs": [
    {
     "name": "stdout",
     "output_type": "stream",
     "text": [
      "I'm a lumberjack, and I'm okay.\n",
      "I sleep all night and I work all day.\n",
      "I'm a lumberjack, and I'm okay.\n",
      "I sleep all night and I work all day.\n"
     ]
    }
   ],
   "source": []
  },
  {
   "cell_type": "code",
   "execution_count": 3,
   "metadata": {
    "collapsed": false
   },
   "outputs": [
    {
     "name": "stdout",
     "output_type": "stream",
     "text": [
      "I'm a lumberjack, and I'm okay.\n",
      "I sleep all night and I work all day.\n",
      "I'm a lumberjack, and I'm okay.\n",
      "I sleep all night and I work all day.\n"
     ]
    }
   ],
   "source": [
    "repeat_lyrics()\n",
    "\n",
    "def repeat_lyrics():\n",
    "    print_lyrics()\n",
    "    print_lyrics()\n",
    "def print_lyrics():\n",
    "    print \"I'm a jumberlack, and I'm okay.\"\n",
    "    print \"I sleep all night and I work all day.\""
   ]
  },
  {
   "cell_type": "markdown",
   "metadata": {},
   "source": [
    "### Exercise 3\n",
    "\n",
    "Python provides a built-in function called len that returns the length of a string, so the value of len('allen') is 5.\n",
    "Write a function named right_justify that takes a string named s as a parameter and prints the string with enough leading spaces so that the last letter of the string is in column 70 of the display.\n",
    "\n",
    "```\n",
    ">>> right_justify('allen')\n",
    "                                                                 allen```"
   ]
  },
  {
   "cell_type": "code",
   "execution_count": 6,
   "metadata": {
    "collapsed": false
   },
   "outputs": [
    {
     "name": "stdout",
     "output_type": "stream",
     "text": [
      "                                                                 Fred\n"
     ]
    }
   ],
   "source": [
    "def right_justify(word):\n",
    "    print(' '*(69-len(word))+word)\n",
    "right_justify('Fred')"
   ]
  },
  {
   "cell_type": "markdown",
   "metadata": {},
   "source": [
    "### Exercise 5\n",
    "\n",
    "This exercise can be done using only the statements and other features we have learned so far.\n",
    "\n",
    "(a) Write a function that draws a grid like the following:\n",
    "```\n",
    "+ - - - - + - - - - +\n",
    "|         |         |\n",
    "|         |         |\n",
    "|         |         |\n",
    "|         |         |\n",
    "+ - - - - + - - - - +\n",
    "|         |         |\n",
    "|         |         |\n",
    "|         |         |\n",
    "|         |         |\n",
    "+ - - - - + - - - - +\n",
    "```\n",
    "**Hint:** to print more than one value on a line, you can print a comma-separated sequence:\n",
    "print '+', '-'\n",
    "If the sequence ends with a comma, Python leaves the line unfinished, so the value printed next appears on the same line.\n",
    "print '+', \n",
    "print '-'\n",
    "The output of these statements is '+ -'.\n",
    "A print statement all by itself ends the current line and goes to the next line."
   ]
  },
  {
   "cell_type": "code",
   "execution_count": 19,
   "metadata": {
    "collapsed": false
   },
   "outputs": [
    {
     "name": "stdout",
     "output_type": "stream",
     "text": [
      "+ - - - - + - - - - +\n",
      "|         |         |\n",
      "|         |         |\n",
      "|         |         |\n",
      "+ - - - - + - - - - +\n",
      "|         |         |\n",
      "|         |         |\n",
      "|         |         |\n",
      "+ - - - - + - - - - +\n"
     ]
    }
   ],
   "source": [
    "width = 3\n",
    "height = 3\n",
    "for y in range(1, height):\n",
    "    for x in range(1, width):\n",
    "        print '+ - - - -',\n",
    "    print '+'\n",
    "    for k in range(1, 4):\n",
    "        print '|         |         |'\n",
    "\n",
    "print '+ - - - - + - - - - +'"
   ]
  },
  {
   "cell_type": "markdown",
   "metadata": {},
   "source": [
    "(b) Write a function that draws a similar grid with four rows and four columns."
   ]
  },
  {
   "cell_type": "code",
   "execution_count": 38,
   "metadata": {
    "collapsed": false
   },
   "outputs": [
    {
     "name": "stdout",
     "output_type": "stream",
     "text": [
      "+ - - - - + - - - - + - - - - + - - - - + - - - - + - - - - +\n",
      "|         |         |         |         |         |         |\n",
      "|         |         |         |         |         |         |\n",
      "|         |         |         |         |         |         |\n",
      "+ - - - - + - - - - + - - - - + - - - - + - - - - + - - - - +\n",
      "|         |         |         |         |         |         |\n",
      "|         |         |         |         |         |         |\n",
      "|         |         |         |         |         |         |\n",
      "+ - - - - + - - - - + - - - - + - - - - + - - - - + - - - - +\n",
      "|         |         |         |         |         |         |\n",
      "|         |         |         |         |         |         |\n",
      "|         |         |         |         |         |         |\n",
      "+ - - - - + - - - - + - - - - + - - - - + - - - - + - - - - +\n",
      "|         |         |         |         |         |         |\n",
      "|         |         |         |         |         |         |\n",
      "|         |         |         |         |         |         |\n",
      "+ - - - - + - - - - + - - - - + - - - - + - - - - + - - - - +\n",
      "|         |         |         |         |         |         |\n",
      "|         |         |         |         |         |         |\n",
      "|         |         |         |         |         |         |\n",
      "+ - - - - + - - - - + - - - - + - - - - + - - - - + - - - - +\n",
      "|         |         |         |         |         |         |\n",
      "|         |         |         |         |         |         |\n",
      "|         |         |         |         |         |         |\n",
      "+ - - - - + - - - - + - - - - + - - - - + - - - - + - - - - +\n"
     ]
    }
   ],
   "source": [
    "width = 7\n",
    "height = 7\n",
    "for y in range(1, height):\n",
    "    for x in range(1, width):\n",
    "        print '+ - - - -',\n",
    "    print '+'\n",
    "    for k in range(1, 4):\n",
    "        for x in range(1, width):\n",
    "            print '|        ',\n",
    "        print '|'\n",
    "for x in range(1, width):\n",
    "    print '+ - - - -',\n",
    "print '+'"
   ]
  },
  {
   "cell_type": "markdown",
   "metadata": {},
   "source": [
    "## Chapter 5.1 - 5.7"
   ]
  },
  {
   "cell_type": "markdown",
   "metadata": {},
   "source": [
    "### Exercise 3  \n",
    "\n",
    "Fermat’s Last Theorem says that there are no positive integers a, b, and c such that $a^n + b^n = c^n$ for any values of n greater than 2.\n",
    "\n",
    "(a) Write a function named `check_fermat` that takes four parameters—a, b, c and n—and that checks to see if Fermat’s theorem holds. If n is greater than 2 and it turns out to be true that\n",
    "$a^n + b^n = c^n$ the program should print, \"Holy smokes, Fermat was wrong!\" Otherwise the program should print, \"No, that doesn’t work.\""
   ]
  },
  {
   "cell_type": "code",
   "execution_count": 3,
   "metadata": {
    "collapsed": false
   },
   "outputs": [
    {
     "name": "stdout",
     "output_type": "stream",
     "text": [
      "a1\n",
      "b3\n",
      "c4\n",
      "n2\n",
      "you done goofed\n"
     ]
    }
   ],
   "source": [
    "def check_fermat(a, b, c, n):\n",
    "    if n<3:\n",
    "        print 'you done goofed'\n",
    "    elif a**n+b**n == c**n:\n",
    "        print 'whoa he was wrong'\n",
    "    elif a**n+b**n != c**n:\n",
    "        print \"doesn't work, are you surprised? you shouldn't be you watched a whole documentary on some guy who spent his life proving this theorem.\"\n",
    "check_fermat(input('a'), input('b'), input('c'), input('n'))"
   ]
  },
  {
   "cell_type": "markdown",
   "metadata": {},
   "source": [
    "(b) Write a function that prompts the user to input values for a, b, c and n, converts them to integers, and uses check_fermat to check whether they violate Fermat’s theorem.\n",
    "My original did that. Does Fermat's not hold for non-integers?"
   ]
  },
  {
   "cell_type": "code",
   "execution_count": 9,
   "metadata": {
    "collapsed": false
   },
   "outputs": [
    {
     "name": "stdout",
     "output_type": "stream",
     "text": [
      "a2\n",
      "b4\n",
      "c5\n",
      "n6\n",
      "doesn't work, are you surprised? you shouldn't be you watched a whole documentary on some guy who spent his life proving this theorem.\n"
     ]
    }
   ],
   "source": [
    "def check_fermat(a, b, c, n):\n",
    "    if n<3:\n",
    "        print 'you done goofed'\n",
    "    elif a**n+b**n == c**n:\n",
    "        print 'whoa he was wrong'\n",
    "    elif a**n+b**n != c**n:\n",
    "        print \"doesn't work, are you surprised? you shouldn't be you watched a whole documentary on some guy who spent his life proving this theorem.\"\n",
    "check_fermat(int(input('a')), int(input('b')), int(input('c')), int(input('n')))"
   ]
  },
  {
   "cell_type": "markdown",
   "metadata": {},
   "source": [
    "### Exercise 4  \n",
    "\n",
    "If you are given three sticks, you may or may not be able to arrange them in a triangle. For example, if one of the sticks is 12 inches long and the other two are one inch long, it is clear that you will not be able to get the short sticks to meet in the middle. For any three lengths, there is a simple test to see if it is possible to form a triangle:\n",
    "> If any of the three lengths is greater than the sum of the other two, then you cannot form a triangle. Otherwise, you can. (If the sum of two lengths equals the third, they form what is called a “degenerate” triangle.)\n",
    "\n",
    "(a) Write a function named `is_triangle` that takes three integers as arguments, and that prints either \"Yes\" or \"No,\" depending on whether you can or cannot form a triangle from sticks with the given lengths."
   ]
  },
  {
   "cell_type": "code",
   "execution_count": 6,
   "metadata": {
    "collapsed": false
   },
   "outputs": [
    {
     "name": "stdout",
     "output_type": "stream",
     "text": [
      "a1\n",
      "b1\n",
      "c4\n"
     ]
    },
    {
     "data": {
      "text/plain": [
       "'Nope'"
      ]
     },
     "execution_count": 6,
     "metadata": {},
     "output_type": "execute_result"
    }
   ],
   "source": [
    "def is_triangle(a, b, c):\n",
    "    if a+b<c or a+c<b or b+c<a:\n",
    "        return 'Nope'\n",
    "    else:\n",
    "        return \"It's a triangle!\"\n",
    "is_triangle(input('a'), input('b'), input('c'))"
   ]
  },
  {
   "cell_type": "markdown",
   "metadata": {},
   "source": [
    "(b) Write a function that prompts the user to input three stick lengths, converts them to integers, and uses is_triangle to check whether sticks with the given lengths can form a triangle."
   ]
  },
  {
   "cell_type": "code",
   "execution_count": 11,
   "metadata": {
    "collapsed": false
   },
   "outputs": [
    {
     "name": "stdout",
     "output_type": "stream",
     "text": [
      "a2\n",
      "b5\n",
      "c2\n"
     ]
    },
    {
     "data": {
      "text/plain": [
       "'Nope'"
      ]
     },
     "execution_count": 11,
     "metadata": {},
     "output_type": "execute_result"
    }
   ],
   "source": [
    "def is_triangle(a, b, c):\n",
    "    if a+b<c or a+c<b or b+c<a:\n",
    "        return 'Nope'\n",
    "    else:\n",
    "        return \"It's a triangle!\"\n",
    "is_triangle(int(input('a')), int(input('b')), int(input('c')))"
   ]
  },
  {
   "cell_type": "markdown",
   "metadata": {},
   "source": [
    "## Notes for the Instructors\n",
    "\n",
    "Please use the space below to write comments to help us plan the next class session.  For instance, if you want to see us go over an example of a particular type of problem, you can indicate that here.\n",
    "\n",
    "Please remember that the best way to get quick feedback from the instructors as well as your peers, is to use Piazza.  However, consider using this channel if it doesn't make sense to post your note to Piazza."
   ]
  },
  {
   "cell_type": "markdown",
   "metadata": {},
   "source": [
    "Nope! I enjoyed this assignment, but I'd personally like to move on. I think we applied most of what we learned here during Modsim."
   ]
  }
 ],
 "metadata": {
  "kernelspec": {
   "display_name": "Python 2",
   "language": "python",
   "name": "python2"
  },
  "language_info": {
   "codemirror_mode": {
    "name": "ipython",
    "version": 2
   },
   "file_extension": ".py",
   "mimetype": "text/x-python",
   "name": "python",
   "nbconvert_exporter": "python",
   "pygments_lexer": "ipython2",
   "version": "2.7.6"
  }
 },
 "nbformat": 4,
 "nbformat_minor": 0
}
